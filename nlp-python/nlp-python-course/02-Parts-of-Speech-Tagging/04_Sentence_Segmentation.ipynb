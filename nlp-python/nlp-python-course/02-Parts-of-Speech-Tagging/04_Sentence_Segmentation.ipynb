{
  "cells": [
    {
      "cell_type": "markdown",
      "metadata": {
        "id": "FBgG8GhsGVM7"
      },
      "source": [
        "___\n",
        "\n",
        "<a href='http://www.pieriandata.com'> <img src='../Pierian_Data_Logo.png' /></a>\n",
        "___"
      ]
    },
    {
      "cell_type": "markdown",
      "metadata": {
        "id": "1vc6yYIMGVM8"
      },
      "source": [
        "# Sentence Segmentation\n",
        "In **spaCy Basics** we saw briefly how Doc objects are divided into sentences. In this section we'll learn how sentence segmentation works, and how to set our own segmentation rules."
      ]
    },
    {
      "cell_type": "code",
      "execution_count": 1,
      "metadata": {
        "id": "q5u926CTGVM9"
      },
      "outputs": [],
      "source": [
        "# Perform standard imports\n",
        "import spacy\n",
        "nlp = spacy.load('en_core_web_sm')"
      ]
    },
    {
      "cell_type": "code",
      "execution_count": 3,
      "metadata": {
        "colab": {
          "base_uri": "https://localhost:8080/"
        },
        "id": "ZyY097d1GVM9",
        "outputId": "d648411d-4c42-4815-bbc3-a1f7db94ab0f"
      },
      "outputs": [
        {
          "output_type": "stream",
          "name": "stdout",
          "text": [
            "This is the first sentence.\n",
            "This is another sentence.\n",
            "This is the last sentence.\n"
          ]
        }
      ],
      "source": [
        "# From Spacy Basics:\n",
        "doc = nlp(u'This is the first sentence. This is another sentence. This is the last sentence.')\n",
        "\n",
        "for sent in doc.sents:\n",
        "    print(sent)"
      ]
    },
    {
      "cell_type": "markdown",
      "metadata": {
        "id": "Tqg9jIIjGVM9"
      },
      "source": [
        "### `Doc.sents` is a generator\n",
        "It is important to note that `doc.sents` is a *generator*. That is, a Doc is not segmented until `doc.sents` is called. This means that, where you could print the second Doc token with `print(doc[1])`, you can't call the \"second Doc sentence\" with `print(doc.sents[1])`:"
      ]
    },
    {
      "cell_type": "code",
      "execution_count": 4,
      "metadata": {
        "colab": {
          "base_uri": "https://localhost:8080/"
        },
        "id": "sj50XtDzGVM9",
        "outputId": "28bedc55-fa40-4973-9ede-a5f19995608f"
      },
      "outputs": [
        {
          "output_type": "stream",
          "name": "stdout",
          "text": [
            "is\n"
          ]
        }
      ],
      "source": [
        "print(doc[1])"
      ]
    },
    {
      "cell_type": "code",
      "execution_count": 5,
      "metadata": {
        "colab": {
          "base_uri": "https://localhost:8080/",
          "height": 141
        },
        "id": "jXUoJnM3GVM9",
        "outputId": "3cb57ed9-8ccd-4394-e9e7-e22d0cb0120b"
      },
      "outputs": [
        {
          "output_type": "error",
          "ename": "TypeError",
          "evalue": "'generator' object is not subscriptable",
          "traceback": [
            "\u001b[0;31m---------------------------------------------------------------------------\u001b[0m",
            "\u001b[0;31mTypeError\u001b[0m                                 Traceback (most recent call last)",
            "\u001b[0;32m<ipython-input-5-2bc012eee1da>\u001b[0m in \u001b[0;36m<cell line: 1>\u001b[0;34m()\u001b[0m\n\u001b[0;32m----> 1\u001b[0;31m \u001b[0mprint\u001b[0m\u001b[0;34m(\u001b[0m\u001b[0mdoc\u001b[0m\u001b[0;34m.\u001b[0m\u001b[0msents\u001b[0m\u001b[0;34m[\u001b[0m\u001b[0;36m1\u001b[0m\u001b[0;34m]\u001b[0m\u001b[0;34m)\u001b[0m\u001b[0;34m\u001b[0m\u001b[0;34m\u001b[0m\u001b[0m\n\u001b[0m",
            "\u001b[0;31mTypeError\u001b[0m: 'generator' object is not subscriptable"
          ]
        }
      ],
      "source": [
        "print(doc.sents[1])"
      ]
    },
    {
      "cell_type": "markdown",
      "metadata": {
        "id": "oh-W3fbkGVM-"
      },
      "source": [
        "However, you *can* build a sentence collection by running `doc.sents` and saving the result to a list:"
      ]
    },
    {
      "cell_type": "code",
      "execution_count": 6,
      "metadata": {
        "colab": {
          "base_uri": "https://localhost:8080/"
        },
        "id": "RPf5dJ4LGVM-",
        "outputId": "94db0cef-acdd-4a58-bc3c-7c3f6d65ea72"
      },
      "outputs": [
        {
          "output_type": "execute_result",
          "data": {
            "text/plain": [
              "[This is the first sentence.,\n",
              " This is another sentence.,\n",
              " This is the last sentence.]"
            ]
          },
          "metadata": {},
          "execution_count": 6
        }
      ],
      "source": [
        "doc_sents = [sent for sent in doc.sents]\n",
        "doc_sents"
      ]
    },
    {
      "cell_type": "markdown",
      "metadata": {
        "id": "oEaKwBWVGVM-"
      },
      "source": [
        "<font color=green>**NOTE**: `list(doc.sents)` also works. We show a list comprehension as it allows you to pass in conditionals.</font>"
      ]
    },
    {
      "cell_type": "code",
      "execution_count": null,
      "metadata": {
        "id": "E0VLvHT8GVM-",
        "outputId": "4a10deaf-c36c-411a-b2f9-8cee4c652f26"
      },
      "outputs": [
        {
          "name": "stdout",
          "output_type": "stream",
          "text": [
            "This is another sentence.\n"
          ]
        }
      ],
      "source": [
        "# Now you can access individual sentences:\n",
        "print(doc_sents[1])"
      ]
    },
    {
      "cell_type": "markdown",
      "metadata": {
        "id": "0W72JN8GGVM-"
      },
      "source": [
        "### `sents` are Spans\n",
        "At first glance it looks like each `sent` contains text from the original Doc object. In fact they're just Spans with start and end token pointers."
      ]
    },
    {
      "cell_type": "code",
      "execution_count": null,
      "metadata": {
        "id": "_dk12K-GGVM-",
        "outputId": "a5032aca-b320-40b2-d1a3-426685e15bb8"
      },
      "outputs": [
        {
          "data": {
            "text/plain": [
              "spacy.tokens.span.Span"
            ]
          },
          "execution_count": 7,
          "metadata": {},
          "output_type": "execute_result"
        }
      ],
      "source": [
        "type(doc_sents[1])"
      ]
    },
    {
      "cell_type": "code",
      "execution_count": null,
      "metadata": {
        "id": "WjhjKOHOGVM-",
        "outputId": "5c731d24-069c-4646-f322-2634faa00c39"
      },
      "outputs": [
        {
          "name": "stdout",
          "output_type": "stream",
          "text": [
            "6 11\n"
          ]
        }
      ],
      "source": [
        "print(doc_sents[1].start, doc_sents[1].end)"
      ]
    },
    {
      "cell_type": "markdown",
      "metadata": {
        "id": "YD8qYJUTGVM-"
      },
      "source": [
        "## Adding Rules\n",
        "spaCy's built-in `sentencizer` relies on the dependency parse and end-of-sentence punctuation to determine segmentation rules. We can add rules of our own, but they have to be added *before* the creation of the Doc object, as that is where the parsing of segment start tokens happens:"
      ]
    },
    {
      "cell_type": "code",
      "execution_count": null,
      "metadata": {
        "id": "HxtZy_fmGVM-",
        "outputId": "3f5d5cce-4fc8-44c0-9217-6a75113ef219"
      },
      "outputs": [
        {
          "name": "stdout",
          "output_type": "stream",
          "text": [
            "None  This\n",
            "None  is\n",
            "None  a\n",
            "None  sentence\n",
            "None  .\n",
            "True  This\n",
            "None  is\n",
            "None  a\n",
            "None  sentence\n",
            "None  .\n",
            "True  This\n",
            "None  is\n",
            "None  a\n",
            "None  sentence\n",
            "None  .\n"
          ]
        }
      ],
      "source": [
        "# Parsing the segmentation start tokens happens during the nlp pipeline\n",
        "doc2 = nlp(u'This is a sentence. This is a sentence. This is a sentence.')\n",
        "\n",
        "for token in doc2:\n",
        "    print(token.is_sent_start, ' '+token.text)"
      ]
    },
    {
      "cell_type": "markdown",
      "metadata": {
        "id": "EbM0a0pFGVM_"
      },
      "source": [
        "<font color=green>Notice we haven't run `doc2.sents`, and yet `token.is_sent_start` was set to True on two tokens in the Doc.</font>"
      ]
    },
    {
      "cell_type": "markdown",
      "metadata": {
        "id": "KA28i1XHGVM_"
      },
      "source": [
        "Let's add a semicolon to our existing segmentation rules. That is, whenever the sentencizer encounters a semicolon, the next token should start a new segment."
      ]
    },
    {
      "cell_type": "code",
      "execution_count": null,
      "metadata": {
        "id": "wY7SFLnNGVM_",
        "outputId": "e6e517ce-f7c7-452a-a9f2-4895bdb9b8ad"
      },
      "outputs": [
        {
          "name": "stdout",
          "output_type": "stream",
          "text": [
            "\"Management is doing things right; leadership is doing the right things.\"\n",
            "-Peter Drucker\n"
          ]
        }
      ],
      "source": [
        "# SPACY'S DEFAULT BEHAVIOR\n",
        "doc3 = nlp(u'\"Management is doing things right; leadership is doing the right things.\" -Peter Drucker')\n",
        "\n",
        "for sent in doc3.sents:\n",
        "    print(sent)"
      ]
    },
    {
      "cell_type": "code",
      "execution_count": null,
      "metadata": {
        "id": "d-VPlrPnGVM_",
        "outputId": "03e43ffa-1be9-459d-9f28-1e5b5e2a70db"
      },
      "outputs": [
        {
          "data": {
            "text/plain": [
              "['tagger', 'set_custom_boundaries', 'parser', 'ner']"
            ]
          },
          "execution_count": 2,
          "metadata": {},
          "output_type": "execute_result"
        }
      ],
      "source": [
        "# ADD A NEW RULE TO THE PIPELINE\n",
        "def set_custom_boundaries(doc):\n",
        "    for token in doc[:-1]:\n",
        "        if token.text == ';':\n",
        "            doc[token.i+1].is_sent_start = True\n",
        "    return doc\n",
        "\n",
        "'''\n",
        "If your custom boundaries are not set before the parser, the parser will perform its own sentence segmentation\n",
        "without considering your custom boundaries. This could lead to incorrect or overridden sentence boundaries.\n",
        "'''\n",
        "nlp.add_pipe(set_custom_boundaries, before='parser')\n",
        "\n",
        "nlp.pipe_names"
      ]
    },
    {
      "cell_type": "markdown",
      "metadata": {
        "id": "GSLNGdjuGVM_"
      },
      "source": [
        "<font color=green>The new rule has to run before the document is parsed. Here we can either pass the argument `before='parser'` or `first=True`."
      ]
    },
    {
      "cell_type": "code",
      "execution_count": null,
      "metadata": {
        "id": "WIEf2NsgGVM_",
        "outputId": "c1d319d9-6ad4-4213-f349-52a084ac9d91"
      },
      "outputs": [
        {
          "name": "stdout",
          "output_type": "stream",
          "text": [
            "\"Management is doing things right;\n",
            "leadership is doing the right things.\"\n",
            "-Peter Drucker\n"
          ]
        }
      ],
      "source": [
        "# Re-run the Doc object creation:\n",
        "doc4 = nlp(u'\"Management is doing things right; leadership is doing the right things.\" -Peter Drucker')\n",
        "\n",
        "for sent in doc4.sents:\n",
        "    print(sent)"
      ]
    },
    {
      "cell_type": "code",
      "execution_count": null,
      "metadata": {
        "id": "8P95wuyNGVM_",
        "outputId": "cfbcfd6c-465a-4c32-a094-080e24e53913"
      },
      "outputs": [
        {
          "name": "stdout",
          "output_type": "stream",
          "text": [
            "\"Management is doing things right; leadership is doing the right things.\"\n",
            "-Peter Drucker\n"
          ]
        }
      ],
      "source": [
        "# And yet the new rule doesn't apply to the older Doc object:\n",
        "for sent in doc3.sents:\n",
        "    print(sent)"
      ]
    },
    {
      "cell_type": "markdown",
      "metadata": {
        "id": "ezU2-2AIGVM_"
      },
      "source": [
        "### Why not change the token directly?\n",
        "Why not simply set the `.is_sent_start` value to True on existing tokens?"
      ]
    },
    {
      "cell_type": "code",
      "execution_count": null,
      "metadata": {
        "id": "VPA-mJcfGVM_",
        "outputId": "efdf4828-c27d-4236-9a58-39683bef0095"
      },
      "outputs": [
        {
          "data": {
            "text/plain": [
              "leadership"
            ]
          },
          "execution_count": 4,
          "metadata": {},
          "output_type": "execute_result"
        }
      ],
      "source": [
        "# Find the token we want to change:\n",
        "doc3[7]"
      ]
    },
    {
      "cell_type": "code",
      "execution_count": null,
      "metadata": {
        "id": "AM9SfWZWGVM_",
        "outputId": "4f2db5eb-aada-4a50-e327-6bcf7e23006e"
      },
      "outputs": [
        {
          "ename": "ValueError",
          "evalue": "[E043] Refusing to write to token.sent_start if its document is parsed, because this may cause inconsistent state.",
          "output_type": "error",
          "traceback": [
            "\u001b[1;31m---------------------------------------------------------------------------\u001b[0m",
            "\u001b[1;31mValueError\u001b[0m                                Traceback (most recent call last)",
            "\u001b[1;32m<ipython-input-5-bcec3fe6a9a2>\u001b[0m in \u001b[0;36m<module>\u001b[1;34m()\u001b[0m\n\u001b[0;32m      1\u001b[0m \u001b[1;31m# Try to change the .is_sent_start attribute:\u001b[0m\u001b[1;33m\u001b[0m\u001b[1;33m\u001b[0m\u001b[0m\n\u001b[1;32m----> 2\u001b[1;33m \u001b[0mdoc3\u001b[0m\u001b[1;33m[\u001b[0m\u001b[1;36m7\u001b[0m\u001b[1;33m]\u001b[0m\u001b[1;33m.\u001b[0m\u001b[0mis_sent_start\u001b[0m \u001b[1;33m=\u001b[0m \u001b[1;32mTrue\u001b[0m\u001b[1;33m\u001b[0m\u001b[0m\n\u001b[0m",
            "\u001b[1;32mtoken.pyx\u001b[0m in \u001b[0;36mspacy.tokens.token.Token.is_sent_start.__set__\u001b[1;34m()\u001b[0m\n",
            "\u001b[1;31mValueError\u001b[0m: [E043] Refusing to write to token.sent_start if its document is parsed, because this may cause inconsistent state."
          ]
        }
      ],
      "source": [
        "# Try to change the .is_sent_start attribute:\n",
        "doc3[7].is_sent_start = True"
      ]
    },
    {
      "cell_type": "markdown",
      "metadata": {
        "id": "vAs1armJGVM_"
      },
      "source": [
        "<font color=green>spaCy refuses to change the tag after the document is parsed to prevent inconsistencies in the data.</font>"
      ]
    },
    {
      "cell_type": "markdown",
      "metadata": {
        "id": "_EL6EWUsGVM_"
      },
      "source": [
        "## Changing the Rules\n",
        "In some cases we want to *replace* spaCy's default sentencizer with our own set of rules. In this section we'll see how the default sentencizer breaks on periods. We'll then replace this behavior with a sentencizer that breaks on linebreaks."
      ]
    },
    {
      "cell_type": "code",
      "execution_count": null,
      "metadata": {
        "id": "BiqV_1M1GVM_",
        "outputId": "4429ba87-50b9-4c53-d43e-b13876e23672"
      },
      "outputs": [
        {
          "name": "stdout",
          "output_type": "stream",
          "text": [
            "['This', 'is', 'a', 'sentence', '.']\n",
            "['This', 'is', 'another', '.', '\\n\\n']\n",
            "['This', 'is', 'a', '\\n', 'third', 'sentence', '.']\n"
          ]
        }
      ],
      "source": [
        "nlp = spacy.load('en_core_web_sm')  # reset to the original\n",
        "\n",
        "mystring = u\"This is a sentence. This is another.\\n\\nThis is a \\nthird sentence.\"\n",
        "\n",
        "# SPACY DEFAULT BEHAVIOR:\n",
        "doc = nlp(mystring)\n",
        "\n",
        "for sent in doc.sents:\n",
        "    print([token.text for token in sent])"
      ]
    },
    {
      "cell_type": "code",
      "execution_count": null,
      "metadata": {
        "id": "PjzLT_4iGVM_"
      },
      "outputs": [],
      "source": [
        "# CHANGING THE RULES\n",
        "from spacy.pipeline import SentenceSegmenter\n",
        "\n",
        "def split_on_newlines(doc):\n",
        "    start = 0\n",
        "    seen_newline = False\n",
        "    for word in doc:\n",
        "        if seen_newline:\n",
        "            yield doc[start:word.i]\n",
        "            start = word.i\n",
        "            seen_newline = False\n",
        "        elif word.text.startswith('\\n'): # handles multiple occurrences\n",
        "            seen_newline = True\n",
        "    yield doc[start:]      # handles the last group of tokens\n",
        "\n",
        "\n",
        "sbd = SentenceSegmenter(nlp.vocab, strategy=split_on_newlines)\n",
        "nlp.add_pipe(sbd)"
      ]
    },
    {
      "cell_type": "markdown",
      "metadata": {
        "id": "NvdCYxiLGVM_"
      },
      "source": [
        "<font color=green>While the function `split_on_newlines` can be named anything we want, it's important to use the name `sbd` for the SentenceSegmenter.</font>"
      ]
    },
    {
      "cell_type": "code",
      "execution_count": null,
      "metadata": {
        "id": "TZbJ0VO5GVNA",
        "outputId": "70e007a2-363e-485f-86ad-855272ef70a3"
      },
      "outputs": [
        {
          "name": "stdout",
          "output_type": "stream",
          "text": [
            "['This', 'is', 'a', 'sentence', '.', 'This', 'is', 'another', '.', '\\n\\n']\n",
            "['This', 'is', 'a', '\\n']\n",
            "['third', 'sentence', '.']\n"
          ]
        }
      ],
      "source": [
        "doc = nlp(mystring)\n",
        "for sent in doc.sents:\n",
        "    print([token.text for token in sent])"
      ]
    },
    {
      "cell_type": "markdown",
      "metadata": {
        "id": "iKZCTYd-GVNA"
      },
      "source": [
        "<font color=green>Here we see that periods no longer affect segmentation, only linebreaks do. This would be appropriate when working with a long list of tweets, for instance.</font>\n",
        "## Next Up: POS Assessment"
      ]
    }
  ],
  "metadata": {
    "kernelspec": {
      "display_name": "Python 3",
      "language": "python",
      "name": "python3"
    },
    "language_info": {
      "codemirror_mode": {
        "name": "ipython",
        "version": 3
      },
      "file_extension": ".py",
      "mimetype": "text/x-python",
      "name": "python",
      "nbconvert_exporter": "python",
      "pygments_lexer": "ipython3",
      "version": "3.6.7"
    },
    "colab": {
      "provenance": []
    }
  },
  "nbformat": 4,
  "nbformat_minor": 0
}